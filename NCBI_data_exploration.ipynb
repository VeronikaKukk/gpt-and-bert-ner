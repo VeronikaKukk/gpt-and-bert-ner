{
 "cells": [
  {
   "cell_type": "markdown",
   "id": "0bb76723",
   "metadata": {},
   "source": [
    "# Exploring the data from NCBI test dataset"
   ]
  },
  {
   "cell_type": "code",
   "execution_count": 1,
   "id": "762c81e3",
   "metadata": {},
   "outputs": [],
   "source": [
    "import pandas as pd\n",
    "from collections import defaultdict \n",
    "import ast"
   ]
  },
  {
   "cell_type": "code",
   "execution_count": 2,
   "id": "bc5b807d",
   "metadata": {},
   "outputs": [],
   "source": [
    "ncbi_file_path = \"ncbi_test.csv\"\n",
    "\n",
    "def convert_to_list(string):\n",
    "    # Convert a list that is in string format to list\n",
    "    try:\n",
    "        return ast.literal_eval(string)\n",
    "    except (SyntaxError, ValueError):\n",
    "        return None\n",
    "\n",
    "ncbi_dataframe = pd.read_csv(ncbi_file_path, index_col = 0, header = 0, converters = {'tokens': convert_to_list, 'original_tags': convert_to_list})"
   ]
  },
  {
   "cell_type": "code",
   "execution_count": 3,
   "id": "58297d62",
   "metadata": {},
   "outputs": [
    {
     "data": {
      "text/html": [
       "<div>\n",
       "<style scoped>\n",
       "    .dataframe tbody tr th:only-of-type {\n",
       "        vertical-align: middle;\n",
       "    }\n",
       "\n",
       "    .dataframe tbody tr th {\n",
       "        vertical-align: top;\n",
       "    }\n",
       "\n",
       "    .dataframe thead th {\n",
       "        text-align: right;\n",
       "    }\n",
       "</style>\n",
       "<table border=\"1\" class=\"dataframe\">\n",
       "  <thead>\n",
       "    <tr style=\"text-align: right;\">\n",
       "      <th></th>\n",
       "      <th>id</th>\n",
       "      <th>tokens</th>\n",
       "      <th>original_tags</th>\n",
       "    </tr>\n",
       "  </thead>\n",
       "  <tbody>\n",
       "    <tr>\n",
       "      <th>0</th>\n",
       "      <td>0</td>\n",
       "      <td>[Clustering, of, missense, mutations, in, the,...</td>\n",
       "      <td>[O, O, O, O, O, O, B-DIS, I-DIS, I-DIS, O, O, ...</td>\n",
       "    </tr>\n",
       "    <tr>\n",
       "      <th>1</th>\n",
       "      <td>1</td>\n",
       "      <td>[Ataxia, -, telangiectasia, (, A, -, T, ), is,...</td>\n",
       "      <td>[B-DIS, I-DIS, I-DIS, O, B-DIS, I-DIS, I-DIS, ...</td>\n",
       "    </tr>\n",
       "    <tr>\n",
       "      <th>2</th>\n",
       "      <td>2</td>\n",
       "      <td>[The, risk, of, cancer, ,, especially, lymphoi...</td>\n",
       "      <td>[O, O, O, B-DIS, O, O, B-DIS, I-DIS, O, O, O, ...</td>\n",
       "    </tr>\n",
       "    <tr>\n",
       "      <th>3</th>\n",
       "      <td>3</td>\n",
       "      <td>[By, analysing, tumour, DNA, from, patients, w...</td>\n",
       "      <td>[O, O, B-DIS, O, O, O, O, B-DIS, I-DIS, I-DIS,...</td>\n",
       "    </tr>\n",
       "    <tr>\n",
       "      <th>4</th>\n",
       "      <td>4</td>\n",
       "      <td>[In, marked, contrast, to, the, ATM, mutation,...</td>\n",
       "      <td>[O, O, O, O, O, O, O, O, O, B-DIS, I-DIS, I-DI...</td>\n",
       "    </tr>\n",
       "    <tr>\n",
       "      <th>...</th>\n",
       "      <td>...</td>\n",
       "      <td>...</td>\n",
       "      <td>...</td>\n",
       "    </tr>\n",
       "    <tr>\n",
       "      <th>936</th>\n",
       "      <td>936</td>\n",
       "      <td>[In, an, attempt, to, resolve, this, issue, ,,...</td>\n",
       "      <td>[O, O, O, O, O, O, O, O, O, O, O, O, O, O, O, ...</td>\n",
       "    </tr>\n",
       "    <tr>\n",
       "      <th>937</th>\n",
       "      <td>937</td>\n",
       "      <td>[These, reagents, detect, a, 220, -, kD, prote...</td>\n",
       "      <td>[O, O, O, O, O, O, O, O, O, O, O, O, O, O, O, ...</td>\n",
       "    </tr>\n",
       "    <tr>\n",
       "      <th>938</th>\n",
       "      <td>938</td>\n",
       "      <td>[Immunohistochemical, staining, of, human, bre...</td>\n",
       "      <td>[O, O, O, O, O, O, O, O, O, O, O, O, O, O, O, ...</td>\n",
       "    </tr>\n",
       "    <tr>\n",
       "      <th>939</th>\n",
       "      <td>939</td>\n",
       "      <td>[Conversely, ,, BRCA1, expression, was, reduce...</td>\n",
       "      <td>[O, O, O, O, O, O, O, O, O, O, O, O, O, O, O, ...</td>\n",
       "    </tr>\n",
       "    <tr>\n",
       "      <th>940</th>\n",
       "      <td>940</td>\n",
       "      <td>[]</td>\n",
       "      <td>[]</td>\n",
       "    </tr>\n",
       "  </tbody>\n",
       "</table>\n",
       "<p>941 rows × 3 columns</p>\n",
       "</div>"
      ],
      "text/plain": [
       "      id                                             tokens  \\\n",
       "0      0  [Clustering, of, missense, mutations, in, the,...   \n",
       "1      1  [Ataxia, -, telangiectasia, (, A, -, T, ), is,...   \n",
       "2      2  [The, risk, of, cancer, ,, especially, lymphoi...   \n",
       "3      3  [By, analysing, tumour, DNA, from, patients, w...   \n",
       "4      4  [In, marked, contrast, to, the, ATM, mutation,...   \n",
       "..   ...                                                ...   \n",
       "936  936  [In, an, attempt, to, resolve, this, issue, ,,...   \n",
       "937  937  [These, reagents, detect, a, 220, -, kD, prote...   \n",
       "938  938  [Immunohistochemical, staining, of, human, bre...   \n",
       "939  939  [Conversely, ,, BRCA1, expression, was, reduce...   \n",
       "940  940                                                 []   \n",
       "\n",
       "                                         original_tags  \n",
       "0    [O, O, O, O, O, O, B-DIS, I-DIS, I-DIS, O, O, ...  \n",
       "1    [B-DIS, I-DIS, I-DIS, O, B-DIS, I-DIS, I-DIS, ...  \n",
       "2    [O, O, O, B-DIS, O, O, B-DIS, I-DIS, O, O, O, ...  \n",
       "3    [O, O, B-DIS, O, O, O, O, B-DIS, I-DIS, I-DIS,...  \n",
       "4    [O, O, O, O, O, O, O, O, O, B-DIS, I-DIS, I-DI...  \n",
       "..                                                 ...  \n",
       "936  [O, O, O, O, O, O, O, O, O, O, O, O, O, O, O, ...  \n",
       "937  [O, O, O, O, O, O, O, O, O, O, O, O, O, O, O, ...  \n",
       "938  [O, O, O, O, O, O, O, O, O, O, O, O, O, O, O, ...  \n",
       "939  [O, O, O, O, O, O, O, O, O, O, O, O, O, O, O, ...  \n",
       "940                                                 []  \n",
       "\n",
       "[941 rows x 3 columns]"
      ]
     },
     "execution_count": 3,
     "metadata": {},
     "output_type": "execute_result"
    }
   ],
   "source": [
    "ncbi_dataframe"
   ]
  },
  {
   "cell_type": "code",
   "execution_count": 4,
   "id": "f77cc465",
   "metadata": {},
   "outputs": [
    {
     "name": "stdout",
     "output_type": "stream",
     "text": [
      "{'O': 22450, 'B-DIS': 960, 'I-DIS': 1087}\n"
     ]
    }
   ],
   "source": [
    "# Count how many of each tag there is\n",
    "counts = {\"O\": 0, \"B-DIS\": 0, \"I-DIS\": 0}\n",
    "for idx, row in ncbi_dataframe.iterrows():\n",
    "    for val in row[\"original_tags\"]:\n",
    "        counts[val] = counts[val] + 1\n",
    "print(counts)"
   ]
  },
  {
   "cell_type": "code",
   "execution_count": 5,
   "id": "7f672fe4",
   "metadata": {},
   "outputs": [
    {
     "data": {
      "text/plain": [
       "24497"
      ]
     },
     "execution_count": 5,
     "metadata": {},
     "output_type": "execute_result"
    }
   ],
   "source": [
    "count_sum = counts[\"O\"] + counts[\"B-DIS\"] + counts[\"I-DIS\"]\n",
    "count_sum"
   ]
  },
  {
   "cell_type": "code",
   "execution_count": 6,
   "id": "bb8f6418",
   "metadata": {},
   "outputs": [],
   "source": [
    "def count_entity_words(dataframe):\n",
    "    entity_counts = defaultdict(int)\n",
    "    \n",
    "    for idx, row in dataframe.iterrows():\n",
    "        current_entity = None\n",
    "        word_count = 0\n",
    "        tags = row[\"original_tags\"]\n",
    "        for tag in tags:\n",
    "            if tag.startswith('B-'):\n",
    "                if current_entity is not None: # add previous entity to dictonary\n",
    "                    entity_counts[current_entity + \"-\" + str(word_count)] += 1\n",
    "                current_entity = tag[2:]\n",
    "                word_count = 1\n",
    "            elif tag.startswith('I-'):\n",
    "                word_count += 1\n",
    "            else:# tag O\n",
    "                if current_entity is not None:\n",
    "                    # If we were counting an entity, save the count\n",
    "                    entity_counts[current_entity + \"-\" + str(word_count)] += 1\n",
    "                    current_entity = None\n",
    "                    word_count = 0\n",
    "        \n",
    "        if current_entity is not None:\n",
    "            entity_counts[current_entity + \"-\" + str(word_count)] += 1\n",
    "    \n",
    "    return entity_counts"
   ]
  },
  {
   "cell_type": "code",
   "execution_count": 7,
   "id": "d974272d",
   "metadata": {
    "scrolled": true
   },
   "outputs": [
    {
     "data": {
      "text/plain": [
       "defaultdict(int,\n",
       "            {'DIS-3': 133,\n",
       "             'DIS-5': 30,\n",
       "             'DIS-1': 423,\n",
       "             'DIS-2': 270,\n",
       "             'DIS-6': 12,\n",
       "             'DIS-7': 6,\n",
       "             'DIS-4': 72,\n",
       "             'DIS-8': 6,\n",
       "             'DIS-9': 4,\n",
       "             'DIS-13': 1,\n",
       "             'DIS-11': 2,\n",
       "             'DIS-14': 1})"
      ]
     },
     "execution_count": 7,
     "metadata": {},
     "output_type": "execute_result"
    }
   ],
   "source": [
    "count_entity_words(ncbi_dataframe)"
   ]
  },
  {
   "cell_type": "code",
   "execution_count": null,
   "id": "7ec03ace",
   "metadata": {},
   "outputs": [],
   "source": []
  }
 ],
 "metadata": {
  "kernelspec": {
   "display_name": "Python 3 (ipykernel)",
   "language": "python",
   "name": "python3"
  },
  "language_info": {
   "codemirror_mode": {
    "name": "ipython",
    "version": 3
   },
   "file_extension": ".py",
   "mimetype": "text/x-python",
   "name": "python",
   "nbconvert_exporter": "python",
   "pygments_lexer": "ipython3",
   "version": "3.10.12"
  }
 },
 "nbformat": 4,
 "nbformat_minor": 5
}
