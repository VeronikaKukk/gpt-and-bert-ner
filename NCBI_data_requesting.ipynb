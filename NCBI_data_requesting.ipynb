{
 "cells": [
  {
   "cell_type": "markdown",
   "id": "8c72eedd",
   "metadata": {},
   "source": [
    "# Requesting data from the NCBI test dataset\n",
    "The data requested is available here: https://huggingface.co/datasets/ncbi_disease"
   ]
  },
  {
   "cell_type": "code",
   "execution_count": 1,
   "id": "e1fb0a87",
   "metadata": {},
   "outputs": [],
   "source": [
    "import requests\n",
    "import pandas as pd "
   ]
  },
  {
   "cell_type": "markdown",
   "id": "47619643",
   "metadata": {},
   "source": [
    "Followed the instructions from here:\n",
    "https://huggingface.co/docs/datasets-server/quick_start"
   ]
  },
  {
   "cell_type": "code",
   "execution_count": 2,
   "id": "f4002357",
   "metadata": {},
   "outputs": [],
   "source": [
    "API_URL = \"https://datasets-server.huggingface.co/rows?dataset=ncbi_disease&config=ncbi_disease&split=test&offset=\""
   ]
  },
  {
   "cell_type": "code",
   "execution_count": 3,
   "id": "26d93431",
   "metadata": {},
   "outputs": [],
   "source": [
    "# You can only get 100 rows at once\n",
    "def get100RowsOfData(offset):\n",
    "    response = requests.get(API_URL+str(offset)+\"&length=100\")\n",
    "    return response.json()"
   ]
  },
  {
   "cell_type": "code",
   "execution_count": 4,
   "id": "826971ce",
   "metadata": {},
   "outputs": [],
   "source": [
    "# Gathering all of the tags and tokens\n",
    "all_tokens = []\n",
    "all_tags = []\n",
    "all_ids = []\n",
    "\n",
    "def getTokensAndTags(data):\n",
    "    for row in data[\"rows\"]:\n",
    "        all_tokens.append(row[\"row\"][\"tokens\"])\n",
    "        ner_tags = row[\"row\"][\"ner_tags\"]\n",
    "        for i in range(len(ner_tags)):\n",
    "            # Converting 0, 1 and 2 to IOB format\n",
    "            if ner_tags[i] == 0:\n",
    "                ner_tags[i] = 'O'\n",
    "            elif ner_tags[i] == 1:\n",
    "                ner_tags[i] = 'B-DIS'\n",
    "            elif ner_tags[i] == 2:\n",
    "                ner_tags[i] = 'I-DIS'\n",
    "        all_tags.append(ner_tags)\n",
    "        all_ids.append(row[\"row\"][\"id\"])"
   ]
  },
  {
   "cell_type": "code",
   "execution_count": 5,
   "id": "c67efc41",
   "metadata": {},
   "outputs": [],
   "source": [
    "# Requesting data by 100 rows (in total 940 rows)\n",
    "current_offset = 0\n",
    "for i in range(10):\n",
    "    current_data = get100RowsOfData(current_offset)\n",
    "    current_offset += 100\n",
    "    getTokensAndTags(current_data)"
   ]
  },
  {
   "cell_type": "code",
   "execution_count": 14,
   "id": "8f2a3f93",
   "metadata": {},
   "outputs": [],
   "source": [
    "# Writing data to csv file\n",
    "data = {\"id\":all_ids,\n",
    "       \"tokens\":all_tokens,\n",
    "       \"original_tags\": all_tags}\n",
    "df = pd.DataFrame(data)\n",
    "df.to_csv(\"ncbi_test.csv\")"
   ]
  }
 ],
 "metadata": {
  "kernelspec": {
   "display_name": "Python 3 (ipykernel)",
   "language": "python",
   "name": "python3"
  },
  "language_info": {
   "codemirror_mode": {
    "name": "ipython",
    "version": 3
   },
   "file_extension": ".py",
   "mimetype": "text/x-python",
   "name": "python",
   "nbconvert_exporter": "python",
   "pygments_lexer": "ipython3",
   "version": "3.10.12"
  }
 },
 "nbformat": 4,
 "nbformat_minor": 5
}
